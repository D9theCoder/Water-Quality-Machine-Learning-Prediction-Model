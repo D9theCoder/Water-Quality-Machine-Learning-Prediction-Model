{
 "cells": [
  {
   "cell_type": "markdown",
   "id": "c779f131-2513-499f-9905-dac3f6a5c2d0",
   "metadata": {},
   "source": [
    "# **Note proses pengerjaan coding:**\n",
    "**I. Data-Preprocessing**\n",
    "1. Baca Dataset\n",
    "2. Cek jumlah data kosong\n",
    "3. Cek tipe data\n",
    "4. Drop kolom yang memiliki fitur yang gak mempengaruhi label (misalnya nama orang, id, dll)\n",
    "5. Handle missing value\n",
    "6. Lakukan encoding untuk data categorical\n",
    "7. Handle Outlier\n",
    "8. Lakukan scaling data (hanya untuk data X, para fitur)\n",
    "\n",
    "**II. Model Selection**\n",
    "1. Train test split\n",
    "2. Handle imbalance class untuk data training (X_train,y_train)\n",
    "\n",
    "**III. Creating machine learning model**\n",
    "1. Import necessary sklearn libraries\n",
    "2. train model (pake sklearn.algoritmanya)"
   ]
  },
  {
   "cell_type": "code",
   "execution_count": 26,
   "id": "f90d9774-5deb-44ff-ab69-7683d07285d7",
   "metadata": {},
   "outputs": [],
   "source": [
    "import pandas as pd\n",
    "import numpy as np"
   ]
  },
  {
   "cell_type": "code",
   "execution_count": 27,
   "id": "2b8c2e29-8aa3-4bf6-849f-24d2eb5697b6",
   "metadata": {},
   "outputs": [
    {
     "data": {
      "text/html": [
       "<div>\n",
       "<style scoped>\n",
       "    .dataframe tbody tr th:only-of-type {\n",
       "        vertical-align: middle;\n",
       "    }\n",
       "\n",
       "    .dataframe tbody tr th {\n",
       "        vertical-align: top;\n",
       "    }\n",
       "\n",
       "    .dataframe thead th {\n",
       "        text-align: right;\n",
       "    }\n",
       "</style>\n",
       "<table border=\"1\" class=\"dataframe\">\n",
       "  <thead>\n",
       "    <tr style=\"text-align: right;\">\n",
       "      <th></th>\n",
       "      <th>ph</th>\n",
       "      <th>Hardness</th>\n",
       "      <th>Solids</th>\n",
       "      <th>Chloramines</th>\n",
       "      <th>Sulfate</th>\n",
       "      <th>Conductivity</th>\n",
       "      <th>Organic_carbon</th>\n",
       "      <th>Trihalomethanes</th>\n",
       "      <th>Turbidity</th>\n",
       "      <th>Potability</th>\n",
       "    </tr>\n",
       "  </thead>\n",
       "  <tbody>\n",
       "    <tr>\n",
       "      <th>0</th>\n",
       "      <td>NaN</td>\n",
       "      <td>204.890455</td>\n",
       "      <td>20791.318981</td>\n",
       "      <td>7.300212</td>\n",
       "      <td>368.516441</td>\n",
       "      <td>564.308654</td>\n",
       "      <td>10.379783</td>\n",
       "      <td>86.990970</td>\n",
       "      <td>2.963135</td>\n",
       "      <td>0</td>\n",
       "    </tr>\n",
       "    <tr>\n",
       "      <th>1</th>\n",
       "      <td>3.716080</td>\n",
       "      <td>129.422921</td>\n",
       "      <td>18630.057858</td>\n",
       "      <td>6.635246</td>\n",
       "      <td>NaN</td>\n",
       "      <td>592.885359</td>\n",
       "      <td>15.180013</td>\n",
       "      <td>56.329076</td>\n",
       "      <td>4.500656</td>\n",
       "      <td>0</td>\n",
       "    </tr>\n",
       "    <tr>\n",
       "      <th>2</th>\n",
       "      <td>8.099124</td>\n",
       "      <td>224.236259</td>\n",
       "      <td>19909.541732</td>\n",
       "      <td>9.275884</td>\n",
       "      <td>NaN</td>\n",
       "      <td>418.606213</td>\n",
       "      <td>16.868637</td>\n",
       "      <td>66.420093</td>\n",
       "      <td>3.055934</td>\n",
       "      <td>0</td>\n",
       "    </tr>\n",
       "    <tr>\n",
       "      <th>3</th>\n",
       "      <td>8.316766</td>\n",
       "      <td>214.373394</td>\n",
       "      <td>22018.417441</td>\n",
       "      <td>8.059332</td>\n",
       "      <td>356.886136</td>\n",
       "      <td>363.266516</td>\n",
       "      <td>18.436524</td>\n",
       "      <td>100.341674</td>\n",
       "      <td>4.628771</td>\n",
       "      <td>0</td>\n",
       "    </tr>\n",
       "    <tr>\n",
       "      <th>4</th>\n",
       "      <td>9.092223</td>\n",
       "      <td>181.101509</td>\n",
       "      <td>17978.986339</td>\n",
       "      <td>6.546600</td>\n",
       "      <td>310.135738</td>\n",
       "      <td>398.410813</td>\n",
       "      <td>11.558279</td>\n",
       "      <td>31.997993</td>\n",
       "      <td>4.075075</td>\n",
       "      <td>0</td>\n",
       "    </tr>\n",
       "  </tbody>\n",
       "</table>\n",
       "</div>"
      ],
      "text/plain": [
       "         ph    Hardness        Solids  Chloramines     Sulfate  Conductivity  \\\n",
       "0       NaN  204.890455  20791.318981     7.300212  368.516441    564.308654   \n",
       "1  3.716080  129.422921  18630.057858     6.635246         NaN    592.885359   \n",
       "2  8.099124  224.236259  19909.541732     9.275884         NaN    418.606213   \n",
       "3  8.316766  214.373394  22018.417441     8.059332  356.886136    363.266516   \n",
       "4  9.092223  181.101509  17978.986339     6.546600  310.135738    398.410813   \n",
       "\n",
       "   Organic_carbon  Trihalomethanes  Turbidity  Potability  \n",
       "0       10.379783        86.990970   2.963135           0  \n",
       "1       15.180013        56.329076   4.500656           0  \n",
       "2       16.868637        66.420093   3.055934           0  \n",
       "3       18.436524       100.341674   4.628771           0  \n",
       "4       11.558279        31.997993   4.075075           0  "
      ]
     },
     "execution_count": 27,
     "metadata": {},
     "output_type": "execute_result"
    }
   ],
   "source": [
    "df = pd.read_csv('water_potability.csv')\n",
    "df.head()"
   ]
  },
  {
   "cell_type": "code",
   "execution_count": 28,
   "id": "9e00fdb8-871e-49b5-a2d3-c8b8b67b5fdc",
   "metadata": {},
   "outputs": [
    {
     "name": "stdout",
     "output_type": "stream",
     "text": [
      "<class 'pandas.core.frame.DataFrame'>\n",
      "RangeIndex: 3276 entries, 0 to 3275\n",
      "Data columns (total 10 columns):\n",
      " #   Column           Non-Null Count  Dtype  \n",
      "---  ------           --------------  -----  \n",
      " 0   ph               2785 non-null   float64\n",
      " 1   Hardness         3276 non-null   float64\n",
      " 2   Solids           3276 non-null   float64\n",
      " 3   Chloramines      3276 non-null   float64\n",
      " 4   Sulfate          2495 non-null   float64\n",
      " 5   Conductivity     3276 non-null   float64\n",
      " 6   Organic_carbon   3276 non-null   float64\n",
      " 7   Trihalomethanes  3114 non-null   float64\n",
      " 8   Turbidity        3276 non-null   float64\n",
      " 9   Potability       3276 non-null   int64  \n",
      "dtypes: float64(9), int64(1)\n",
      "memory usage: 256.1 KB\n"
     ]
    }
   ],
   "source": [
    "df.info()\n",
    "# Alhamdulillah udah aman data typenya"
   ]
  },
  {
   "cell_type": "code",
   "execution_count": 29,
   "id": "f5f3d37c-fc63-44a7-8f4d-2cf1dce2a3f7",
   "metadata": {},
   "outputs": [
    {
     "data": {
      "text/plain": [
       "ph                 491\n",
       "Hardness             0\n",
       "Solids               0\n",
       "Chloramines          0\n",
       "Sulfate            781\n",
       "Conductivity         0\n",
       "Organic_carbon       0\n",
       "Trihalomethanes    162\n",
       "Turbidity            0\n",
       "Potability           0\n",
       "dtype: int64"
      ]
     },
     "execution_count": 29,
     "metadata": {},
     "output_type": "execute_result"
    }
   ],
   "source": [
    "df.isna().sum()"
   ]
  },
  {
   "cell_type": "code",
   "execution_count": 30,
   "id": "996d1bb1-54ab-4341-a5f8-e6209520baec",
   "metadata": {},
   "outputs": [
    {
     "name": "stdout",
     "output_type": "stream",
     "text": [
      "ph              | 14.99%\n",
      "Hardness        | 0.00%\n",
      "Solids          | 0.00%\n",
      "Chloramines     | 0.00%\n",
      "Sulfate         | 23.84%\n",
      "Conductivity    | 0.00%\n",
      "Organic_carbon  | 0.00%\n",
      "Trihalomethanes | 4.95%\n",
      "Turbidity       | 0.00%\n",
      "Potability      | 0.00%\n"
     ]
    }
   ],
   "source": [
    "def print_null_report(df):\n",
    "    for i, j in enumerate(df.isna().sum()):\n",
    "        print(f'{df.columns[i]:15} | {j*100/len(df):.2f}%')\n",
    "\n",
    "print_null_report(df)"
   ]
  },
  {
   "cell_type": "code",
   "execution_count": 31,
   "id": "2d794f2c-5e99-415f-914e-b60bcdaa356c",
   "metadata": {},
   "outputs": [
    {
     "name": "stdout",
     "output_type": "stream",
     "text": [
      "ph              | 0.00%\n",
      "Hardness        | 0.00%\n",
      "Solids          | 0.00%\n",
      "Chloramines     | 0.00%\n",
      "Sulfate         | 0.00%\n",
      "Conductivity    | 0.00%\n",
      "Organic_carbon  | 0.00%\n",
      "Trihalomethanes | 0.00%\n",
      "Turbidity       | 0.00%\n",
      "Potability      | 0.00%\n"
     ]
    }
   ],
   "source": [
    "# Handling missing value (gunakan imputasi untuk semuanya) berdasarkan class\n",
    "df['ph'] = df.groupby('Potability')['ph'].transform(lambda x: x.fillna(x.mean()))\n",
    "df['Sulfate'] = df.groupby('Potability')['Sulfate'].transform(lambda x: x.fillna(x.mean()))\n",
    "df['Trihalomethanes'] = df.groupby('Potability')['Trihalomethanes'].transform(lambda x: x.fillna(x.mean()))\n",
    "\n",
    "print_null_report(df)"
   ]
  },
  {
   "cell_type": "code",
   "execution_count": 32,
   "id": "5b5a07c1-3d54-422b-9d39-ea86306e31b2",
   "metadata": {},
   "outputs": [
    {
     "name": "stdout",
     "output_type": "stream",
     "text": [
      "Number of Outliers for ph              :  142\n",
      "Number of Outliers for Hardness        :  83\n",
      "Number of Outliers for Solids          :  47\n",
      "Number of Outliers for Chloramines     :  61\n",
      "Number of Outliers for Sulfate         :  264\n",
      "Number of Outliers for Conductivity    :  11\n",
      "Number of Outliers for Organic_carbon  :  25\n",
      "Number of Outliers for Trihalomethanes :  54\n",
      "Number of Outliers for Turbidity       :  19\n",
      "Number of Outliers for Potability      :  0\n"
     ]
    }
   ],
   "source": [
    "# Handling Outlier\n",
    "\n",
    "def check_outlier(df):\n",
    "    Q1 = df.quantile(0.25)\n",
    "    Q3 = df.quantile(0.75)\n",
    "    IQR = Q3-Q1\n",
    "\n",
    "    outliers = df[(df < (Q1 - 1.5 * IQR)) | (df > (Q3 + 1.5 * IQR))]\n",
    "    return outliers\n",
    "    \n",
    "def print_outlier(df):\n",
    "    for i in df.columns:\n",
    "        outliers = check_outlier(df[i])\n",
    "        print(f'Number of Outliers for {i:16}:  {len(outliers)}')\n",
    "\n",
    "def handle_outlier(df):\n",
    "    for i in df.columns:\n",
    "            Q1 = df[i].quantile(0.25)\n",
    "            Q3 = df[i].quantile(0.75)\n",
    "            IQR = Q3-Q1\n",
    "\n",
    "            lower_bound = Q1 - 1.5 * IQR\n",
    "            upper_bound = Q3 + 1.5 * IQR\n",
    "            # Ku gunain teknik winsorizing: jadi nilai outlier akan diubah menjadi nilai lower bound atau upper bound tergantung dengan lokasi outliernya dimana\n",
    "            df[i] = np.where(df[i] < lower_bound, lower_bound, df[i])\n",
    "            df[i] = np.where(df[i] > upper_bound, upper_bound, df[i])\n",
    "        \n",
    "            print(f'Column {i} has been processed')\n",
    "\n",
    "print_outlier(df)"
   ]
  },
  {
   "cell_type": "code",
   "execution_count": 33,
   "id": "918437b5-e315-491e-ad59-1ecb3c73ef1e",
   "metadata": {},
   "outputs": [
    {
     "name": "stdout",
     "output_type": "stream",
     "text": [
      "Column ph has been processed\n",
      "Column Hardness has been processed\n",
      "Column Solids has been processed\n",
      "Column Chloramines has been processed\n",
      "Column Sulfate has been processed\n",
      "Column Conductivity has been processed\n",
      "Column Organic_carbon has been processed\n",
      "Column Trihalomethanes has been processed\n",
      "Column Turbidity has been processed\n",
      "Column Potability has been processed\n",
      "None\n"
     ]
    }
   ],
   "source": [
    "print(handle_outlier(df))"
   ]
  },
  {
   "cell_type": "code",
   "execution_count": 34,
   "id": "0caf022a-b3b8-47d2-af92-8d8b133a605b",
   "metadata": {},
   "outputs": [
    {
     "data": {
      "text/plain": [
       "Potability\n",
       "0.0    1998\n",
       "1.0    1278\n",
       "Name: count, dtype: int64"
      ]
     },
     "execution_count": 34,
     "metadata": {},
     "output_type": "execute_result"
    }
   ],
   "source": [
    "df['Potability'].value_counts()"
   ]
  },
  {
   "cell_type": "code",
   "execution_count": 35,
   "id": "50ec0fce-1451-4101-9635-4af6d4e1df8b",
   "metadata": {},
   "outputs": [],
   "source": [
    "# Data Scaling\n",
    "from sklearn.preprocessing import MinMaxScaler\n",
    "sc = MinMaxScaler()\n",
    "\n",
    "X = df.drop(['Potability'], axis = 1)\n",
    "y = df['Potability']\n",
    "\n",
    "X = sc.fit_transform(X)"
   ]
  },
  {
   "cell_type": "code",
   "execution_count": 36,
   "id": "8222f295-8c4a-4d89-9c6a-b763dc8cab92",
   "metadata": {},
   "outputs": [],
   "source": [
    "# Model Selection\n",
    "from sklearn.model_selection import train_test_split\n",
    "X_train, X_test, y_train, y_test = train_test_split(X, y, random_state= 42, test_size= 0.2)\n",
    "\n",
    "# Smote (only oversample the training data)\n",
    "from imblearn.over_sampling import SMOTE\n",
    "sm = SMOTE(random_state=0)\n",
    "X_train, y_train = sm.fit_resample(X_train, y_train)"
   ]
  },
  {
   "cell_type": "code",
   "execution_count": 37,
   "id": "71c29c66-b7fa-4183-bc7a-b99c1ca16e32",
   "metadata": {},
   "outputs": [
    {
     "name": "stdout",
     "output_type": "stream",
     "text": [
      "Cross Validation Score: [0.57926829 0.60763359 0.60152672 0.55877863 0.61221374]\n",
      "Average Cross Validation Score: 0.5918841928877304\n"
     ]
    }
   ],
   "source": [
    "# Creating the model (KNN)\n",
    "from sklearn.neighbors import KNeighborsClassifier\n",
    "from sklearn.model_selection import StratifiedKFold, cross_val_score\n",
    "\n",
    "KNN = KNeighborsClassifier()\n",
    "KNN.fit(X_train, y_train)\n",
    "\n",
    "KFold = StratifiedKFold(n_splits=5)\n",
    "scores = cross_val_score(KNN, X, y, cv = KFold)\n",
    "\n",
    "print('Cross Validation Score:', scores)\n",
    "print('Average Cross Validation Score:', scores.mean())\n"
   ]
  },
  {
   "cell_type": "code",
   "execution_count": 38,
   "id": "52415663-c812-43f1-aff2-277b46b782d8",
   "metadata": {},
   "outputs": [
    {
     "name": "stdout",
     "output_type": "stream",
     "text": [
      "The Model accuracy is: 0.614329268292683\n",
      "              precision    recall  f1-score   support\n",
      "\n",
      "         0.0       0.62      0.73      0.67       353\n",
      "         1.0       0.60      0.49      0.54       303\n",
      "\n",
      "    accuracy                           0.61       656\n",
      "   macro avg       0.61      0.61      0.60       656\n",
      "weighted avg       0.61      0.61      0.61       656\n",
      "\n"
     ]
    }
   ],
   "source": [
    "# Prediction\n",
    "from sklearn.metrics import accuracy_score, classification_report\n",
    "y_pred_KNN = KNN.predict(X_test)\n",
    "\n",
    "print('The Model accuracy is:', accuracy_score(y_pred_KNN, y_test))\n",
    "print(classification_report(y_pred_KNN, y_test))\n"
   ]
  },
  {
   "cell_type": "code",
   "execution_count": 39,
   "id": "03e58177-99c0-4a43-8123-2ae1c70014ab",
   "metadata": {},
   "outputs": [
    {
     "name": "stdout",
     "output_type": "stream",
     "text": [
      "Cross Validation Score: [0.63109756 0.63664122 0.60305344 0.60305344 0.62137405]\n",
      "Average Cross Validation Score: 0.6190439396760379\n"
     ]
    }
   ],
   "source": [
    "# Creating naive bayes model\n",
    "from sklearn.naive_bayes import BernoulliNB, GaussianNB, CategoricalNB\n",
    "NaiveBayes = BernoulliNB()\n",
    "NaiveBayes.fit(X_train, y_train)\n",
    "\n",
    "KFold2 = StratifiedKFold(n_splits=5)\n",
    "scores2 = cross_val_score(NaiveBayes, X, y, cv = KFold2)\n",
    "print('Cross Validation Score:', scores2)\n",
    "print('Average Cross Validation Score:', scores2.mean())"
   ]
  },
  {
   "cell_type": "code",
   "execution_count": 40,
   "id": "64032f75-29b1-46fe-9061-51986c608073",
   "metadata": {},
   "outputs": [
    {
     "name": "stdout",
     "output_type": "stream",
     "text": [
      "The Model accuracy is: 0.6295731707317073\n",
      "              precision    recall  f1-score   support\n",
      "\n",
      "         0.0       0.95      0.64      0.76       615\n",
      "         1.0       0.09      0.51      0.15        41\n",
      "\n",
      "    accuracy                           0.63       656\n",
      "   macro avg       0.52      0.57      0.46       656\n",
      "weighted avg       0.90      0.63      0.72       656\n",
      "\n"
     ]
    }
   ],
   "source": [
    "# Prediction\n",
    "y_pred_NAIVE = NaiveBayes.predict(X_test)\n",
    "print('The Model accuracy is:', accuracy_score(y_pred_NAIVE, y_test))\n",
    "print(classification_report(y_pred_NAIVE, y_test))\n",
    "\n"
   ]
  },
  {
   "cell_type": "code",
   "execution_count": 41,
   "id": "edc5b353-2a89-4fff-abaa-dd39c948b621",
   "metadata": {},
   "outputs": [
    {
     "name": "stdout",
     "output_type": "stream",
     "text": [
      "Cross Validation Score: [0.6097561  0.61068702 0.61068702 0.61068702 0.61068702]\n",
      "Average Cross Validation Score: 0.6105008378328058\n"
     ]
    }
   ],
   "source": [
    "# SVM Model plus regularisasi\n",
    "from sklearn.svm import LinearSVC\n",
    "l1 = LinearSVC(penalty='l1', loss='squared_hinge', dual=False, tol = 1e-3)\n",
    "l1.fit(X_train, y_train)\n",
    "\n",
    "KFold3 = StratifiedKFold(n_splits=5)\n",
    "scores3 = cross_val_score(l1, X, y, cv = KFold3)\n",
    "\n",
    "print('Cross Validation Score:', scores3)\n",
    "print('Average Cross Validation Score:', scores3.mean())"
   ]
  },
  {
   "cell_type": "code",
   "execution_count": 44,
   "id": "2deb7206-11db-4022-9b5f-b4180f8283c0",
   "metadata": {},
   "outputs": [
    {
     "name": "stdout",
     "output_type": "stream",
     "text": [
      "The Model accuracy is: 0.5060975609756098\n",
      "              precision    recall  f1-score   support\n",
      "\n",
      "         0.0       0.52      0.63      0.57       338\n",
      "         1.0       0.49      0.37      0.42       318\n",
      "\n",
      "    accuracy                           0.51       656\n",
      "   macro avg       0.50      0.50      0.50       656\n",
      "weighted avg       0.50      0.51      0.50       656\n",
      "\n"
     ]
    }
   ],
   "source": [
    "# Prediction\n",
    "y_pred_SVM = l1.predict(X_test)\n",
    "print('The Model accuracy is:', accuracy_score(y_pred_SVM, y_test))\n",
    "print(classification_report(y_pred_SVM, y_test))"
   ]
  }
 ],
 "metadata": {
  "kernelspec": {
   "display_name": "Python 3 (ipykernel)",
   "language": "python",
   "name": "python3"
  },
  "language_info": {
   "codemirror_mode": {
    "name": "ipython",
    "version": 3
   },
   "file_extension": ".py",
   "mimetype": "text/x-python",
   "name": "python",
   "nbconvert_exporter": "python",
   "pygments_lexer": "ipython3",
   "version": "3.10.13"
  }
 },
 "nbformat": 4,
 "nbformat_minor": 5
}
